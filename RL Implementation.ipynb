{
 "cells": [
  {
   "cell_type": "code",
   "execution_count": 1,
   "metadata": {},
   "outputs": [],
   "source": [
    "import numpy as np\n",
    "import matplotlib.pyplot as plt\n",
    "import scipy.stats\n",
    "import pandas as pd"
   ]
  },
  {
   "cell_type": "code",
   "execution_count": 99,
   "metadata": {},
   "outputs": [],
   "source": [
    "def simulate_RL_Basic(alpha, beta, T):\n",
    "    Q = np.zeros((3, 3))\n",
    "    for i in range(0, T):\n",
    "        s = np.random.randint(0, 3)\n",
    "        \n",
    "        p = np.exp(beta * Q[s, :])\n",
    "        p = p/np.sum(p)\n",
    "        \n",
    "        if len(set(p)) <=1:\n",
    "            a = np.random.randint(0, 3)\n",
    "        else:\n",
    "            a = np.argmax(p)\n",
    "        \n",
    "        if s == 0:\n",
    "            if a ==0:\n",
    "                r = 1\n",
    "            else:\n",
    "                r=0\n",
    "        elif s == 1:\n",
    "            if a ==0:\n",
    "                r = 1\n",
    "            else:\n",
    "                r=0\n",
    "        elif s ==2:\n",
    "            if a ==2:\n",
    "                r = 1\n",
    "            else:\n",
    "                r=0\n",
    "        \n",
    "        \n",
    "        Q[s, a] = Q[s, a] + alpha*(r-Q[s, a])\n",
    "    return Q    \n",
    "\n",
    "def simulate_RL6(alpha, beta, epsilon, phi, pers, init, T):\n",
    "    \"\"\"\n",
    "    args:\n",
    "        alpha (float between 0 and 1): learning rate\n",
    "        beta (int): temperature\n",
    "        epsilon (float between 0 and 1): noise\n",
    "        phi (float between 0 and 1): decay\n",
    "        pers (float between 0 and 1): perseveration, values closer to 1 have complete neglect of negative feedback\n",
    "            values near 0 represent equal learning from positive and negative learning\n",
    "    \"\"\"\n",
    "    Q = np.zeros((3,3))\n",
    "    for i in range(0, T):\n",
    "        s = np.random.randint(0, 3)\n",
    "        \n",
    "        p = np.exp(beta * Q[s, :])\n",
    "        p= p/np.sum(p)\n",
    "        p = (1-epsilon)*p + epsilon*(1/3)\n",
    "        \n",
    "        if len(set(p)) <=1:\n",
    "            a = np.random.randint(0, 3)\n",
    "        else:\n",
    "            a = np.argmax(p)\n",
    "         \n",
    "        if s == 0 and a ==0:\n",
    "            r = 1\n",
    "        elif s==0 and a !=0:\n",
    "            r=0\n",
    "        elif s==1 and a==0:\n",
    "            r=1\n",
    "        elif s==1 and a!=0:\n",
    "            r=0\n",
    "        elif s==2 and a==2:\n",
    "            r=1\n",
    "        elif s==2 and a!=2:\n",
    "            r=0\n",
    "            \n",
    "        alpha = (1-pers)*alpha\n",
    "        Q0 = Q[s, a].copy()\n",
    "        Q[s, a] = Q[s, a] + alpha*(r-Q[s, a])\n",
    "        \n",
    "        Q[s,a] = Q[s, a] + phi*(Q0-Q[s, a])\n",
    "        \n",
    "        \n",
    "    return Q\n",
    "        "
   ]
  },
  {
   "cell_type": "code",
   "execution_count": 83,
   "metadata": {},
   "outputs": [],
   "source": [
    "test = simulate_RL_Basic(0.1, 5, 100)"
   ]
  },
  {
   "cell_type": "code",
   "execution_count": 84,
   "metadata": {},
   "outputs": [
    {
     "data": {
      "text/plain": [
       "array([[0.94185026, 0.        , 0.        ],\n",
       "       [0.9774716 , 0.        , 0.        ],\n",
       "       [0.        , 0.        , 0.84990536]])"
      ]
     },
     "execution_count": 84,
     "metadata": {},
     "output_type": "execute_result"
    }
   ],
   "source": [
    "test"
   ]
  },
  {
   "cell_type": "code",
   "execution_count": 106,
   "metadata": {},
   "outputs": [],
   "source": [
    "test = simulate_RL6(0.7, 1, 0.5, 0.5, 0.5, 1, T=1000)"
   ]
  },
  {
   "cell_type": "code",
   "execution_count": 107,
   "metadata": {},
   "outputs": [
    {
     "data": {
      "text/plain": [
       "array([[0.00958684, 0.        , 0.        ],\n",
       "       [0.03308497, 0.        , 0.        ],\n",
       "       [0.        , 0.        , 0.12811558]])"
      ]
     },
     "execution_count": 107,
     "metadata": {},
     "output_type": "execute_result"
    }
   ],
   "source": [
    "test"
   ]
  },
  {
   "cell_type": "code",
   "execution_count": null,
   "metadata": {},
   "outputs": [],
   "source": []
  }
 ],
 "metadata": {
  "kernelspec": {
   "display_name": "Python 3",
   "language": "python",
   "name": "python3"
  },
  "language_info": {
   "codemirror_mode": {
    "name": "ipython",
    "version": 3
   },
   "file_extension": ".py",
   "mimetype": "text/x-python",
   "name": "python",
   "nbconvert_exporter": "python",
   "pygments_lexer": "ipython3",
   "version": "3.8.5"
  }
 },
 "nbformat": 4,
 "nbformat_minor": 4
}
