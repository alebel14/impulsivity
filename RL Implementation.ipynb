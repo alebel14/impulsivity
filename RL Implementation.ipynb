{
 "cells": [
  {
   "cell_type": "markdown",
   "metadata": {},
   "source": [
    "## Implement and simulate RL model \n",
    "\n",
    "This notebook implements a basic RL model with a n-armed bandit task. \n",
    "The simulation should produce results that mimic the behavioral data including:\n",
    "\n",
    "* trial: trial number in block\n",
    "* stimulus: stimulus presented for this trial (1:x, x = set size)\n",
    "* key_press: action for the trial (0 = J, 1 = K, 2 = L)\n",
    "* key_answer: correct action for the trial (0 = J, 1 = K, 2 = L)\n",
    "* correct: whether response was corect\n",
    "* set_size: set size of this block\n",
    "* set: image folder used for this block\n",
    "* img_num: image file used for this trial's stimulus\n",
    "* iteration: how many times this stimulus has been seen so far\n",
    "* delay: how many trials since last presentation of this stimulus\n",
    "* reward_history: how many correct responses for this stimulus since block start\n",
    "\n",
    "This should also be able to look at the affects of various hyperparameters in the model including: \n",
    "\n",
    "* alpha (float between 0 and 1): learning rate\n",
    "* beta (int): temperature\n",
    "* epsilon (float between 0 and 1): noise\n",
    "* phi (float between 0 and 1): decay\n",
    "* pers (float between 0 and 1): perseveration, values closer to 1 have complete neglect of \n",
    "* negative feedback\n",
    "* values near 0 represent equal learning from positive and negative learning\n"
   ]
  },
  {
   "cell_type": "code",
   "execution_count": 1,
   "metadata": {},
   "outputs": [],
   "source": [
    "import numpy as np\n",
    "import matplotlib.pyplot as plt\n",
    "import scipy.stats\n",
    "import pandas as pd\n",
    "import random"
   ]
  },
  {
   "cell_type": "code",
   "execution_count": 2,
   "metadata": {},
   "outputs": [],
   "source": [
    "class simulate_RL6():\n",
    "    def __init__(self, alpha, beta, epsilon, phi, pers, T, actions,reward):\n",
    "        self.alpha = alpha\n",
    "        self.pers = pers\n",
    "        self.neg_alpha = (1-self.pers)*self.alpha\n",
    "        self.beta = beta\n",
    "        self.epsilon = epsilon\n",
    "        self.phi = phi\n",
    "        self.pers = pers\n",
    "        self.T = T\n",
    "        self.correct = []\n",
    "        self.key_answer = []\n",
    "        self.stimulus = []\n",
    "        self.reward = reward\n",
    "        self.actions = actions\n",
    "        self.Q = np.zeros((len(self.reward.keys()), self.actions))\n",
    "    def fit(self):\n",
    "        \"\"\"This function will train the model\n",
    "        \"\"\"\n",
    "        for i in range(0, self.T):\n",
    "            \n",
    " \n",
    "            set_size = len(self.reward.keys())\n",
    "            s = np.random.randint(0, set_size)\n",
    "            self.stimulus.append(s)\n",
    "            \n",
    "            p = np.exp(self.beta * self.Q[s, :])\n",
    "            p= p/np.sum(p)\n",
    "            p = (1-self.epsilon)*p + self.epsilon*(1/self.actions)\n",
    "            a = random.choices(list(range(0, self.actions)), weights=p)[0]\n",
    "            self.key_answer.append(a)\n",
    "            correct = self.reward[s]\n",
    "            if correct == a:\n",
    "                r = 1\n",
    "            else:\n",
    "                r=0\n",
    "\n",
    "            Q0 = self.Q[s, a].copy()\n",
    "            if r==0:\n",
    "                self.Q[s,a] = self.Q[s,a] + self.neg_alpha*(r-self.Q[s,a])\n",
    "               \n",
    "            else:\n",
    "                self.Q[s, a] = self.Q[s, a] + self.alpha*(r-self.Q[s, a])\n",
    "            self.Q[s,a] = self.Q[s, a] + self.phi*(Q0-self.Q[s, a])\n",
    "            self.correct.append(r)\n",
    "        \n",
    "        \n",
    "    def get_delay(self):\n",
    "        if len(self.stimulus)==0:\n",
    "            raise NameError(\"model not yet fit, please fit model\")\n",
    "        else:\n",
    "            self.delay = []\n",
    "            for j, i in enumerate(self.stimulus):\n",
    "                idx = np.where(np.array(self.stimulus)==i)[0]\n",
    "                if j <= np.min(idx):\n",
    "                    self.delay.append(0)\n",
    "                else:\n",
    "                    biggest_idx = np.max(np.where(idx < j)[0])\n",
    "                    self.delay.append(j-idx[biggest_idx])\n",
    "        \n",
    "    def get_iteration(self):\n",
    "        if len(self.correct) == 0:\n",
    "            print(\"model not yet fit please fit model\")\n",
    "        else:\n",
    "            self.iteration = []\n",
    "            for j, i in enumerate(self.stimulus):\n",
    "                idx = np.where(np.array(self.stimulus)==i)[0]\n",
    "                if j <= np.min(idx):\n",
    "                    self.iteration.append(0)\n",
    "                else:\n",
    "                    self.iteration.append(len(np.where(idx<j)[0]))\n",
    "    def get_reward_history():\n",
    "        if len(self.correct)==0:\n",
    "            print(\"model not yet fit, please fit model\")\n",
    "        else:\n",
    "            pass\n",
    "        \n",
    "    "
   ]
  },
  {
   "cell_type": "code",
   "execution_count": 3,
   "metadata": {},
   "outputs": [],
   "source": [
    "class simulate_RLWM():\n",
    "    \"\"\" This class includes the function for fitting a simulation of the RLWM task.\n",
    "    It can also be used to train the model with the behavioral data. \n",
    "    \n",
    "    Args:\n",
    "    \n",
    "    Alpha (float): learning rate bounded from 0 to 1\n",
    "    K (int): working memory capacity\n",
    "    prior (): working memory prior weight\n",
    "    beta (int): inverse temperature average value is 5 . Fixed to 100\n",
    "    epsilon (float): noise bounded from 0 to 1\n",
    "    phi (float): decay bounded from 0 to 1\n",
    "    pers (float): neglect of negative values bounded from 0 to 1\n",
    "    T (int): number of trials per block\n",
    "    actions (int): number of possible responses\n",
    "    reward (dict): keys are the stimulus, values are the correct action response\n",
    "    \n",
    "    \"\"\"\n",
    "    def __init__(self, alpha, K, prior, beta, epsilon, phi, pers, T, actions,reward):\n",
    "        self.alpha = alpha\n",
    "        self.pers = pers\n",
    "        self.beta = beta\n",
    "        self.epsilon = epsilon\n",
    "        self.phi = phi\n",
    "        self.prior = prior\n",
    "        self.K = K\n",
    "        \n",
    "        self.T = T\n",
    "        self.reward = reward\n",
    "        self.actions = actions\n",
    "        \n",
    "        self.Wwm = self.prior*(np.min([1, self.K/len(self.reward.keys())]))\n",
    "        self.neg_alpha = (1-self.pers)*self.alpha\n",
    "        \n",
    "        self.correct = []\n",
    "        self.key_answer = []\n",
    "        self.stimulus = []\n",
    "        self.Q = np.ones((len(self.reward.keys()), self.actions))/self.actions\n",
    "        self.W = np.ones((len(self.reward.keys()), self.actions))/self.actions\n",
    "        self.W0 = self.W.copy()\n",
    "    def fit(self):\n",
    "        \"\"\"This function will train the model\n",
    "        \"\"\"\n",
    "        for i in range(0, self.T):\n",
    "            if i >=1:\n",
    "                \n",
    "                self.W = self.W + self.phi*(self.W0-self.W)\n",
    "\n",
    "\n",
    "            set_size = len(self.reward.keys())\n",
    "            s = np.random.randint(0, set_size)\n",
    "            self.stimulus.append(s)\n",
    " \n",
    "            Prl = np.exp(self.beta * self.Q[s, :])\n",
    "            Prl = Prl/np.sum(Prl)\n",
    "            \n",
    "            Pwm = np.exp(self.beta * self.W[s, :])\n",
    "            Pwm = Pwm/np.sum(Pwm)\n",
    "            \n",
    "            Pall = self.Wwm*Pwm + (1-self.Wwm)*Prl\n",
    "            Pall = (1-self.epsilon)*Pall + self.epsilon*(1/self.actions)\n",
    "            a = random.choices(list(range(0, self.actions)), weights=Pall)[0]\n",
    "            self.key_answer.append(a)\n",
    "            correct = self.reward[s]\n",
    "            if correct == a:\n",
    "                r = 1\n",
    "            else:\n",
    "                r = 0\n",
    "            \n",
    "            if r==0:\n",
    "                self.Q[s,a] = self.Q[s,a] + self.neg_alpha*(r-self.Q[s,a])\n",
    "               \n",
    "            else:\n",
    "                self.Q[s, a] = self.Q[s, a] + self.alpha*(r-self.Q[s, a])\n",
    "            \n",
    "            \n",
    "            self.W[s,a] = r\n",
    "            self.correct.append(r)\n",
    "        \n",
    "    def get_delay(self):\n",
    "        if len(self.stimulus)==0:\n",
    "            raise NameError(\"model not yet fit, please fit model\")\n",
    "        else:\n",
    "            self.delay = []\n",
    "            for j, i in enumerate(self.stimulus):\n",
    "                idx = np.where(np.array(self.stimulus)==i)[0]\n",
    "                if j <= np.min(idx):\n",
    "                    self.delay.append(0)\n",
    "                else:\n",
    "                    biggest_idx = np.max(np.where(idx < j)[0])\n",
    "                    self.delay.append(j-idx[biggest_idx])\n",
    "        \n",
    "    def get_iteration(self):\n",
    "        if len(self.correct) == 0:\n",
    "            print(\"model not yet fit please fit model\")\n",
    "        else:\n",
    "            self.iteration = []\n",
    "            for j, i in enumerate(self.stimulus):\n",
    "                idx = np.where(np.array(self.stimulus)==i)[0]\n",
    "                if j <= np.min(idx):\n",
    "                    self.iteration.append(0)\n",
    "                else:\n",
    "                    self.iteration.append(len(np.where(idx<j)[0]))\n",
    "    def get_reward_history():\n",
    "        if len(self.correct)==0:\n",
    "            print(\"model not yet fit, please fit model\")\n",
    "        else:\n",
    "            pass\n",
    "        "
   ]
  },
  {
   "cell_type": "code",
   "execution_count": 4,
   "metadata": {},
   "outputs": [],
   "source": [
    "class simulate_RL2():\n",
    "    def __init__(self, alpha, beta, T, actions,reward):\n",
    "        self.alpha = alpha\n",
    "        self.beta = beta\n",
    "        self.T = T\n",
    "        self.correct = []\n",
    "        self.key_answer = []\n",
    "        self.stimulus = []\n",
    "        self.reward = reward\n",
    "        self.actions = actions\n",
    "        self.Q = np.zeros((len(self.reward.keys()), self.actions))\n",
    "    def fit(self):\n",
    "        \"\"\"This function will train the model\n",
    "        \"\"\"\n",
    "        for i in range(0, self.T):\n",
    "            \n",
    "            set_size = len(self.reward.keys())\n",
    "            \n",
    "            s = np.random.randint(0, set_size)\n",
    "            self.stimulus.append(s)\n",
    "            \n",
    "            p = np.exp(self.beta * self.Q[s, :])\n",
    "            p= p/np.sum(p)\n",
    "            \n",
    "            a = random.choices(list(range(0, self.actions)), weights=p)[0]\n",
    "            self.key_answer.append(a)\n",
    "            correct = self.reward[s]\n",
    "            if correct == a:\n",
    "                r = 1\n",
    "            else:\n",
    "                r=0\n",
    "\n",
    "            self.Q[s, a] = self.Q[s, a] + self.alpha*(r-self.Q[s, a])\n",
    "            self.correct.append(r)\n",
    "        \n",
    "    def get_delay(self):\n",
    "        if len(self.stimulus)==0:\n",
    "            raise NameError(\"model not yet fit, please fit model\")\n",
    "        else:\n",
    "            self.delay = []\n",
    "            for j, i in enumerate(self.stimulus):\n",
    "                idx = np.where(np.array(self.stimulus)==i)[0]\n",
    "                if j <= np.min(idx):\n",
    "                    self.delay.append(0)\n",
    "                else:\n",
    "                    biggest_idx = np.max(np.where(idx < j)[0])\n",
    "                    self.delay.append(j-idx[biggest_idx])\n",
    "        \n",
    "    def get_iteration(self):\n",
    "        if len(self.correct) == 0:\n",
    "            print(\"model not yet fit please fit model\")\n",
    "        else:\n",
    "            self.iteration = []\n",
    "            for j, i in enumerate(self.stimulus):\n",
    "                idx = np.where(np.array(self.stimulus)==i)[0]\n",
    "                if j <= np.min(idx):\n",
    "                    self.iteration.append(0)\n",
    "                else:\n",
    "                    self.iteration.append(len(np.where(idx<j)[0]))\n",
    "    def get_reward_history():\n",
    "        if len(self.correct)==0:\n",
    "            print(\"model not yet fit, please fit model\")\n",
    "        else:\n",
    "            pass\n",
    "        \n",
    "    "
   ]
  },
  {
   "cell_type": "markdown",
   "metadata": {},
   "source": [
    "## Standard Parameters"
   ]
  },
  {
   "cell_type": "code",
   "execution_count": 5,
   "metadata": {},
   "outputs": [],
   "source": [
    "alpha = 0.01\n",
    "beta= 50\n",
    "epsilon =0\n",
    "phi=0\n",
    "pers=0\n",
    "T=110\n",
    "actions = 3\n",
    "K=2\n",
    "prior=1\n"
   ]
  },
  {
   "cell_type": "markdown",
   "metadata": {},
   "source": [
    "### RLWM model"
   ]
  },
  {
   "cell_type": "code",
   "execution_count": 7,
   "metadata": {},
   "outputs": [],
   "source": [
    "rewards = {0:1, 1:0}#, 2:1, 3:2, 4:2, 5:0}\n",
    "model = simulate_RLWM(alpha, K, prior, beta, epsilon, phi, pers, T, actions, rewards)\n",
    "model.fit()\n",
    "\n"
   ]
  },
  {
   "cell_type": "code",
   "execution_count": 49,
   "metadata": {},
   "outputs": [
    {
     "data": {
      "text/plain": [
       "[0,\n",
       " 0,\n",
       " 1,\n",
       " 1,\n",
       " 1,\n",
       " 1,\n",
       " 1,\n",
       " 1,\n",
       " 1,\n",
       " 1,\n",
       " 1,\n",
       " 1,\n",
       " 1,\n",
       " 1,\n",
       " 1,\n",
       " 1,\n",
       " 1,\n",
       " 1,\n",
       " 1,\n",
       " 1,\n",
       " 1,\n",
       " 1,\n",
       " 1,\n",
       " 1,\n",
       " 1,\n",
       " 1,\n",
       " 1,\n",
       " 1,\n",
       " 1,\n",
       " 1,\n",
       " 1,\n",
       " 1,\n",
       " 1,\n",
       " 1,\n",
       " 1,\n",
       " 1,\n",
       " 1,\n",
       " 1,\n",
       " 1,\n",
       " 1,\n",
       " 1,\n",
       " 1,\n",
       " 1,\n",
       " 1,\n",
       " 1,\n",
       " 1,\n",
       " 1,\n",
       " 1,\n",
       " 1,\n",
       " 1,\n",
       " 1,\n",
       " 1,\n",
       " 1,\n",
       " 1,\n",
       " 1,\n",
       " 1,\n",
       " 1,\n",
       " 1,\n",
       " 1,\n",
       " 1,\n",
       " 1,\n",
       " 1,\n",
       " 1,\n",
       " 1,\n",
       " 1,\n",
       " 1,\n",
       " 1,\n",
       " 1,\n",
       " 1,\n",
       " 1,\n",
       " 1,\n",
       " 1,\n",
       " 1,\n",
       " 1,\n",
       " 1,\n",
       " 1,\n",
       " 1,\n",
       " 1,\n",
       " 1,\n",
       " 1,\n",
       " 1,\n",
       " 1,\n",
       " 1,\n",
       " 1,\n",
       " 1,\n",
       " 1,\n",
       " 1,\n",
       " 1,\n",
       " 1,\n",
       " 1,\n",
       " 1,\n",
       " 1,\n",
       " 1,\n",
       " 1,\n",
       " 1,\n",
       " 1,\n",
       " 1,\n",
       " 1,\n",
       " 1,\n",
       " 1,\n",
       " 1,\n",
       " 1,\n",
       " 1,\n",
       " 1,\n",
       " 1,\n",
       " 1,\n",
       " 1,\n",
       " 1,\n",
       " 1,\n",
       " 1]"
      ]
     },
     "execution_count": 49,
     "metadata": {},
     "output_type": "execute_result"
    }
   ],
   "source": [
    "model.correct"
   ]
  },
  {
   "cell_type": "code",
   "execution_count": 50,
   "metadata": {},
   "outputs": [],
   "source": [
    "all_correct = dict()\n",
    "all_correct = dict()\n",
    "all_iter = dict()\n",
    "for r in [{0:1, 1:0}, {0:1, 1:0, 2:1}, {0:1, 1:0, 2:1, 3:2}, {0:1, 1:0, 2:1, 3:2, 4:2}, {0:1, 1:0, 2:1, 3:2, 4:2, 5:0}]:\n",
    "    correct_x = []\n",
    "    iter_x = []\n",
    "    for x in range(50):\n",
    "        model = simulate_RLWM(alpha, K, prior, beta, epsilon, phi, pers, T, actions, r)\n",
    "\n",
    "        model.fit()\n",
    "        model.get_iteration()\n",
    "        correct_x.append(model.correct)\n",
    "        iter_x.append(model.iteration)\n",
    "    all_correct[len(r.keys())] = correct_x\n",
    "    all_iter[len(r.keys())] = iter_x\n",
    "    \n",
    "all_set = {}\n",
    "sem_set = {}\n",
    "\n",
    "for i in range(2, 7):\n",
    "    mean_iter = []\n",
    "    sem_iter = []\n",
    "    for  n in range(1, 14):\n",
    "        just_iter = np.where(np.concatenate(np.array(all_iter[i]))==n)[0]\n",
    "        test_result = np.array([i for j, i in enumerate(np.concatenate(np.array(all_correct[i]))) if j in just_iter])\n",
    "        mean_iter.append(np.mean(test_result))\n",
    "        sem_iter.append(scipy.stats.sem(test_result))\n",
    "    all_set[i] = mean_iter\n",
    "    sem_set[i] = sem_iter\n",
    "        "
   ]
  },
  {
   "cell_type": "code",
   "execution_count": 51,
   "metadata": {
    "scrolled": true
   },
   "outputs": [
    {
     "data": {
      "image/png": "[encoded data removed]",
      "text/plain": [
       "<Figure size 432x288 with 1 Axes>"
      ]
     },
     "metadata": {
      "needs_background": "light"
     },
     "output_type": "display_data"
    }
   ],
   "source": [
    "plt.figure()\n",
    "ax = plt.subplot(111)\n",
    "\n",
    "for i in range(2, 7):\n",
    "    plt.plot(list(range(1, 14)), all_set[i], label=str(i))\n",
    "    plt.fill_between(list(range(1, 14)), [i-j for i, j in zip(all_set[i], sem_set[i])], [i+j for i, j in zip(all_set[i], sem_set[i])], alpha=0.3)\n",
    "\n",
    "for y in range(0, 100, 10):\n",
    "     plt.plot([0, 8, 14], [y/100]*3, '--', lw=0.5, color='dimgray', alpha=0.3)\n",
    "\n",
    "plt.legend()\n",
    "plt.xlabel('iterations')\n",
    "plt.ylabel('p (corr)')\n",
    "ax.spines['top'].set_visible(False)\n",
    "ax.spines['right'].set_visible(False)\n",
    "ax.spines['bottom'].set_visible(True)\n",
    "ax.spines['left'].set_visible(True) "
   ]
  },
  {
   "cell_type": "markdown",
   "metadata": {},
   "source": [
    "### RL2 model"
   ]
  },
  {
   "cell_type": "code",
   "execution_count": 6,
   "metadata": {},
   "outputs": [],
   "source": [
    "all_correct = dict()\n",
    "all_iter = dict()\n",
    "for r in [{0:1, 1:0}, {0:1, 1:0, 2:1}, {0:1, 1:0, 2:1, 3:2}, {0:1, 1:0, 2:1, 3:2, 4:2}, {0:1, 1:0, 2:1, 3:2, 4:2, 5:0}]:\n",
    "    correct_x = []\n",
    "    iter_x = []\n",
    "    for x in range(100):\n",
    "        model = simulate_RL2(alpha, beta, T, actions, r)\n",
    "        model.fit()\n",
    "        model.get_iteration()\n",
    "        correct_x.append(model.correct)\n",
    "        iter_x.append(model.iteration)\n",
    "    all_correct[len(r.keys())] = correct_x\n",
    "    all_iter[len(r.keys())] = iter_x"
   ]
  },
  {
   "cell_type": "code",
   "execution_count": 7,
   "metadata": {},
   "outputs": [],
   "source": [
    "all_set = {}\n",
    "sem_set = {}\n",
    "\n",
    "for i in range(2, 7):\n",
    "    mean_iter = []\n",
    "    sem_iter = []\n",
    "    for  n in range(1, 20):\n",
    "        just_iter = np.where(np.concatenate(np.array(all_iter[i]))==n)[0]\n",
    "        test_result = np.array([i for j, i in enumerate(np.concatenate(np.array(all_correct[i]))) if j in just_iter])\n",
    "        mean_iter.append(np.mean(test_result))\n",
    "        sem_iter.append(scipy.stats.sem(test_result))\n",
    "    all_set[i] = mean_iter\n",
    "    sem_set[i] = sem_iter\n",
    "        "
   ]
  },
  {
   "cell_type": "code",
   "execution_count": 8,
   "metadata": {
    "scrolled": true
   },
   "outputs": [
    {
     "data": {
      "image/png": "[encoded data removed]",
      "text/plain": [
       "<Figure size 432x288 with 1 Axes>"
      ]
     },
     "metadata": {
      "needs_background": "light"
     },
     "output_type": "display_data"
    }
   ],
   "source": [
    "plt.figure()\n",
    "ax = plt.subplot(111)\n",
    "\n",
    "for i in range(2, 7):\n",
    "    plt.plot(list(range(1, 20)), all_set[i], label=str(i))\n",
    "    plt.fill_between(list(range(1, 20)), [i-j for i, j in zip(all_set[i], sem_set[i])], [i+j for i, j in zip(all_set[i], sem_set[i])], alpha=0.3)\n",
    "\n",
    "for y in range(30, 100, 10):\n",
    "     plt.plot([0, 8, 14, 20], [y/100]*4, '--', lw=0.5, color='dimgray', alpha=0.3)\n",
    "\n",
    "plt.legend()\n",
    "plt.xlabel('iterations')\n",
    "plt.ylabel('p (corr)')\n",
    "ax.spines['top'].set_visible(False)\n",
    "ax.spines['right'].set_visible(False)\n",
    "ax.spines['bottom'].set_visible(True)\n",
    "ax.spines['left'].set_visible(True) "
   ]
  },
  {
   "cell_type": "markdown",
   "metadata": {},
   "source": [
    "### RL6 model"
   ]
  },
  {
   "cell_type": "code",
   "execution_count": 11,
   "metadata": {},
   "outputs": [],
   "source": [
    "all_correct = dict()\n",
    "all_iter = dict()\n",
    "for r in [{0:1, 1:0}, {0:1, 1:0, 2:1}, {0:1, 1:0, 2:1, 3:2}, {0:1, 1:0, 2:1, 3:2, 4:2}, {0:1, 1:0, 2:1, 3:2, 4:2, 5:0}]:\n",
    "    correct_x = []\n",
    "    iter_x = []\n",
    "    for x in range(100):\n",
    "        model = simulate_RL6(alpha, beta, epsilon, phi, pers, T, actions, r)\n",
    "        model.fit()\n",
    "        model.get_iteration()\n",
    "        correct_x.append(model.correct)\n",
    "        iter_x.append(model.iteration)\n",
    "    all_correct[len(r.keys())] = correct_x\n",
    "    all_iter[len(r.keys())] = iter_x"
   ]
  },
  {
   "cell_type": "code",
   "execution_count": 12,
   "metadata": {},
   "outputs": [],
   "source": [
    "all_set = {}\n",
    "sem_set = {}\n",
    "\n",
    "for i in range(2, 7):\n",
    "    mean_iter = []\n",
    "    sem_iter = []\n",
    "    for  n in range(1, 20):\n",
    "        just_iter = np.where(np.concatenate(np.array(all_iter[i]))==n)[0]\n",
    "        test_result = np.array([i for j, i in enumerate(np.concatenate(np.array(all_correct[i]))) if j in just_iter])\n",
    "        mean_iter.append(np.mean(test_result))\n",
    "        sem_iter.append(scipy.stats.sem(test_result))\n",
    "    all_set[i] = mean_iter\n",
    "    sem_set[i] = sem_iter\n",
    "        "
   ]
  },
  {
   "cell_type": "code",
   "execution_count": 13,
   "metadata": {},
   "outputs": [
    {
     "data": {
      "image/png": "[encoded data removed]",
      "text/plain": [
       "<Figure size 432x288 with 1 Axes>"
      ]
     },
     "metadata": {
      "needs_background": "light"
     },
     "output_type": "display_data"
    }
   ],
   "source": [
    "plt.figure()\n",
    "ax = plt.subplot(111)\n",
    "\n",
    "for i in range(2, 7):\n",
    "    plt.plot(list(range(1, 20)), all_set[i], label=str(i))\n",
    "    plt.fill_between(list(range(1, 20)), [i-j for i, j in zip(all_set[i], sem_set[i])], [i+j for i, j in zip(all_set[i], sem_set[i])], alpha=0.3)\n",
    "\n",
    "for y in range(30, 100, 10):\n",
    "     plt.plot([0, 8, 14, 20], [y/100]*4, '--', lw=0.5, color='dimgray', alpha=0.3)\n",
    "\n",
    "plt.legend()\n",
    "plt.xlabel('iterations')\n",
    "plt.ylabel('p (corr)')\n",
    "ax.spines['top'].set_visible(False)\n",
    "ax.spines['right'].set_visible(False)\n",
    "ax.spines['bottom'].set_visible(True)\n",
    "ax.spines['left'].set_visible(True) "
   ]
  },
  {
   "cell_type": "code",
   "execution_count": 15,
   "metadata": {},
   "outputs": [],
   "source": [
    "all_correct = dict()\n",
    "all_sem = dict()\n",
    "for a in range (10, 100, 20):\n",
    "    correct = []\n",
    "    correct_sem = []\n",
    "    for i in range(1000):\n",
    "        model = simulate_RL6(a/100, beta, epsilon, phi, pers, T, actions, r)\n",
    "\n",
    "        model.fit()\n",
    "        model.get_delay()\n",
    "        model.get_iteration()\n",
    "\n",
    "        all_iter = []\n",
    "        sem_iter = []\n",
    "        for n in range(1, 15):\n",
    "            just_iter = np.where(np.array(model.iteration)==n)[0]\n",
    "            test_result = np.array([i for j, i in enumerate(model.correct) if j in just_iter])\n",
    "            all_iter.append(np.mean(test_result))\n",
    "            sem_iter.append(scipy.stats.sem(test_result))\n",
    "        correct.append(all_iter)\n",
    "        correct_sem.append(sem_iter)\n",
    "    all_correct[str(a/100)] = correct\n",
    "    all_sem[str(a/100)] = correct_sem\n",
    "\n",
    "\n",
    "\n"
   ]
  },
  {
   "cell_type": "code",
   "execution_count": 16,
   "metadata": {},
   "outputs": [
    {
     "data": {
      "image/png": "[encoded data removed]",
      "text/plain": [
       "<Figure size 432x288 with 1 Axes>"
      ]
     },
     "metadata": {
      "needs_background": "light"
     },
     "output_type": "display_data"
    }
   ],
   "source": [
    "plt.figure()\n",
    "ax = plt.subplot(111)\n",
    "\n",
    "for i in all_correct.keys():\n",
    "    plt.plot(list(range(1, 15)), np.mean(np.array(all_correct[i]), axis=0), label=i)\n",
    "    #plt.fill_between(list(range(1, 15)), [i-j for i, j in zip(np.mean(np.array(all_correct[i]), axis=0), np.mean(np.array(all_sem[i]), axis=0))], [i+j for i, j in zip(np.mean(np.array(all_correct[i]), axis=0), np.mean(np.array(all_sem[i]), axis=0))], alpha=0.3)\n",
    "\n",
    "for y in range(20, 60, 10):\n",
    "     plt.plot([0, 8, 14, 15], [y/100]*4, '--', lw=0.5, color='dimgray', alpha=0.3)\n",
    "\n",
    "plt.legend(title='Alpha')\n",
    "plt.xlabel('iterations')\n",
    "plt.ylabel('p (corr)')\n",
    "ax.spines['top'].set_visible(False)\n",
    "ax.spines['right'].set_visible(False)\n",
    "ax.spines['bottom'].set_visible(True)\n",
    "ax.spines['left'].set_visible(True)\n",
    "\n",
    "plt.show()"
   ]
  },
  {
   "cell_type": "code",
   "execution_count": 23,
   "metadata": {},
   "outputs": [],
   "source": [
    "all_correct = dict()\n",
    "all_sem = dict()\n",
    "for b in range (0, 10, 2):\n",
    "    correct = []\n",
    "    correct_sem = []\n",
    "    for i in range(1000):\n",
    "        model = simulate_RL6(alpha, b, epsilon, phi, pers, T, actions, r)\n",
    "\n",
    "        model.fit()\n",
    "        model.get_delay()\n",
    "        model.get_iteration()\n",
    "\n",
    "        all_iter = []\n",
    "        sem_iter = []\n",
    "        for n in range(1, 15):\n",
    "            just_iter = np.where(np.array(model.iteration)==n)[0]\n",
    "            test_result = np.array([i for j, i in enumerate(model.correct) if j in just_iter])\n",
    "            all_iter.append(np.mean(test_result))\n",
    "            sem_iter.append(scipy.stats.sem(test_result))\n",
    "        correct.append(all_iter)\n",
    "        correct_sem.append(sem_iter)\n",
    "    all_correct[str(b)] = correct\n",
    "    all_sem[str(b)] = correct_sem\n",
    "\n"
   ]
  },
  {
   "cell_type": "code",
   "execution_count": 24,
   "metadata": {},
   "outputs": [
    {
     "data": {
      "image/png": "[encoded data removed]",
      "text/plain": [
       "<Figure size 432x288 with 1 Axes>"
      ]
     },
     "metadata": {
      "needs_background": "light"
     },
     "output_type": "display_data"
    }
   ],
   "source": [
    "plt.figure()\n",
    "ax = plt.subplot(111)\n",
    "\n",
    "for i in all_correct.keys():\n",
    "    plt.plot(list(range(1, 15)), np.mean(np.array(all_correct[i]), axis=0), label=i)\n",
    "    #plt.fill_between(list(range(1, 15)), [i-j for i, j in zip(np.mean(np.array(all_correct[i]), axis=0), np.mean(np.array(all_sem[i]), axis=0))], [i+j for i, j in zip(np.mean(np.array(all_correct[i]), axis=0), np.mean(np.array(all_sem[i]), axis=0))], alpha=0.3)\n",
    "\n",
    "for y in range(0, 100, 10):\n",
    "     plt.plot([0, 8, 14, 15], [y/100]*4, '--', lw=0.5, color='dimgray', alpha=0.3)\n",
    "\n",
    "plt.legend(title='Beta')\n",
    "plt.xlabel('iterations')\n",
    "plt.ylabel('p (corr)')\n",
    "ax.spines['top'].set_visible(False)\n",
    "ax.spines['right'].set_visible(False)\n",
    "ax.spines['bottom'].set_visible(True)\n",
    "ax.spines['left'].set_visible(True)\n",
    "\n",
    "plt.show()"
   ]
  },
  {
   "cell_type": "code",
   "execution_count": 25,
   "metadata": {},
   "outputs": [],
   "source": [
    "all_correct = dict()\n",
    "all_sem = dict()\n",
    "for e in range (10, 100, 20):\n",
    "    correct = []\n",
    "    correct_sem = []\n",
    "    for i in range(1000):\n",
    "        model = simulate_RL6(alpha, beta, e/100, phi, pers, T, actions, r)\n",
    "\n",
    "        model.fit()\n",
    "        model.get_delay()\n",
    "        model.get_iteration()\n",
    "\n",
    "        all_iter = []\n",
    "        sem_iter = []\n",
    "        for n in range(1, 15):\n",
    "            just_iter = np.where(np.array(model.iteration)==n)[0]\n",
    "            test_result = np.array([i for j, i in enumerate(model.correct) if j in just_iter])\n",
    "            all_iter.append(np.mean(test_result))\n",
    "            sem_iter.append(scipy.stats.sem(test_result))\n",
    "        correct.append(all_iter)\n",
    "        correct_sem.append(sem_iter)\n",
    "    all_correct[str(e/100)] = correct\n",
    "    all_sem[str(e/100)] = correct_sem"
   ]
  },
  {
   "cell_type": "code",
   "execution_count": 29,
   "metadata": {},
   "outputs": [
    {
     "data": {
      "image/png": "[encoded data removed]",
      "text/plain": [
       "<Figure size 432x288 with 1 Axes>"
      ]
     },
     "metadata": {
      "needs_background": "light"
     },
     "output_type": "display_data"
    }
   ],
   "source": [
    "plt.figure()\n",
    "ax = plt.subplot(111)\n",
    "\n",
    "for i in all_correct.keys():\n",
    "    plt.plot(list(range(1, 15)), np.mean(np.array(all_correct[i]), axis=0), label=i)\n",
    "    #plt.fill_between(list(range(1, 15)), [i-j for i, j in zip(np.mean(np.array(all_correct[i]), axis=0), np.mean(np.array(all_sem[i]), axis=0))], [i+j for i, j in zip(np.mean(np.array(all_correct[i]), axis=0), np.mean(np.array(all_sem[i]), axis=0))], alpha=0.3)\n",
    "\n",
    "for y in range(0, 100, 10):\n",
    "     plt.plot([0, 8, 14, 15], [y/100]*4, '--', lw=0.5, color='dimgray', alpha=0.3)\n",
    "\n",
    "plt.legend(title='Epsilon')\n",
    "plt.xlabel('iterations')\n",
    "plt.ylabel('p (corr)')\n",
    "ax.spines['top'].set_visible(False)\n",
    "ax.spines['right'].set_visible(False)\n",
    "ax.spines['bottom'].set_visible(True)\n",
    "ax.spines['left'].set_visible(True)\n",
    "\n",
    "plt.show()"
   ]
  },
  {
   "cell_type": "code",
   "execution_count": 32,
   "metadata": {},
   "outputs": [],
   "source": [
    "all_correct = dict()\n",
    "all_sem = dict()\n",
    "for p in range (10, 100, 20):\n",
    "    correct = []\n",
    "    correct_sem = []\n",
    "    for i in range(1000):\n",
    "        model = simulate_RL6(alpha, beta, epsilon, p/100, pers, T, actions, r)\n",
    "\n",
    "        model.fit()\n",
    "        model.get_delay()\n",
    "        model.get_iteration()\n",
    "\n",
    "        all_iter = []\n",
    "        sem_iter = []\n",
    "        for n in range(1, 15):\n",
    "            just_iter = np.where(np.array(model.iteration)==n)[0]\n",
    "            test_result = np.array([i for j, i in enumerate(model.correct) if j in just_iter])\n",
    "            all_iter.append(np.mean(test_result))\n",
    "            sem_iter.append(scipy.stats.sem(test_result))\n",
    "        correct.append(all_iter)\n",
    "        correct_sem.append(sem_iter)\n",
    "    all_correct[str(p/100)] = correct\n",
    "    all_sem[str(p/100)] = correct_sem"
   ]
  },
  {
   "cell_type": "code",
   "execution_count": 33,
   "metadata": {},
   "outputs": [
    {
     "data": {
      "image/png": "[encoded data removed]",
      "text/plain": [
       "<Figure size 432x288 with 1 Axes>"
      ]
     },
     "metadata": {
      "needs_background": "light"
     },
     "output_type": "display_data"
    }
   ],
   "source": [
    "plt.figure()\n",
    "ax = plt.subplot(111)\n",
    "\n",
    "for i in all_correct.keys():\n",
    "    plt.plot(list(range(1, 15)), np.mean(np.array(all_correct[i]), axis=0), label=i)\n",
    "    #plt.fill_between(list(range(1, 15)), [i-j for i, j in zip(np.mean(np.array(all_correct[i]), axis=0), np.mean(np.array(all_sem[i]), axis=0))], [i+j for i, j in zip(np.mean(np.array(all_correct[i]), axis=0), np.mean(np.array(all_sem[i]), axis=0))], alpha=0.3)\n",
    "\n",
    "for y in range(0, 100, 10):\n",
    "     plt.plot([0, 8, 14, 15], [y/100]*4, '--', lw=0.5, color='dimgray', alpha=0.3)\n",
    "\n",
    "plt.legend(title='phi')\n",
    "plt.xlabel('iterations')\n",
    "plt.ylabel('p (corr)')\n",
    "ax.spines['top'].set_visible(False)\n",
    "ax.spines['right'].set_visible(False)\n",
    "ax.spines['bottom'].set_visible(True)\n",
    "ax.spines['left'].set_visible(True)\n",
    "\n",
    "plt.show()"
   ]
  },
  {
   "cell_type": "code",
   "execution_count": 34,
   "metadata": {},
   "outputs": [
    {
     "name": "stdout",
     "output_type": "stream",
     "text": [
      "0.9\n",
      "0.7\n",
      "0.5\n",
      "0.30000000000000004\n",
      "0.09999999999999998\n"
     ]
    }
   ],
   "source": [
    "all_correct = dict()\n",
    "all_sem = dict()\n",
    "for p in range (10, 100, 20):\n",
    "    correct = []\n",
    "    correct_sem = []\n",
    "    for i in range(1000):\n",
    "        model = simulate_RL6(alpha, beta, epsilon, phi, p/100, T, actions, r)\n",
    "\n",
    "        model.fit()\n",
    "        model.get_delay()\n",
    "        model.get_iteration()\n",
    "        if i ==1:\n",
    "            print(model.neg_alpha)\n",
    "\n",
    "        all_iter = []\n",
    "        sem_iter = []\n",
    "        for n in range(1, 15):\n",
    "            just_iter = np.where(np.array(model.iteration)==n)[0]\n",
    "            test_result = np.array([i for j, i in enumerate(model.correct) if j in just_iter])\n",
    "            all_iter.append(np.mean(test_result))\n",
    "            sem_iter.append(scipy.stats.sem(test_result))\n",
    "        correct.append(all_iter)\n",
    "        correct_sem.append(sem_iter)\n",
    "    all_correct[str(p/100)] = correct\n",
    "    all_sem[str(p/100)] = correct_sem"
   ]
  },
  {
   "cell_type": "code",
   "execution_count": 36,
   "metadata": {},
   "outputs": [
    {
     "data": {
      "image/png": "[encoded data removed]",
      "text/plain": [
       "<Figure size 432x288 with 1 Axes>"
      ]
     },
     "metadata": {
      "needs_background": "light"
     },
     "output_type": "display_data"
    }
   ],
   "source": [
    "plt.figure()\n",
    "ax = plt.subplot(111)\n",
    "\n",
    "for i in all_correct.keys():\n",
    "    plt.plot(list(range(1, 15)), np.mean(np.array(all_correct[i]), axis=0), label=i)\n",
    "    #plt.fill_between(list(range(1, 15)), [i-j for i, j in zip(np.mean(np.array(all_correct[i]), axis=0), np.mean(np.array(all_sem[i]), axis=0))], [i+j for i, j in zip(np.mean(np.array(all_correct[i]), axis=0), np.mean(np.array(all_sem[i]), axis=0))], alpha=0.3)\n",
    "\n",
    "for y in range(0, 100, 10):\n",
    "     plt.plot([0, 8, 14, 15], [y/100]*4, '--', lw=0.5, color='dimgray', alpha=0.3)\n",
    "\n",
    "plt.legend(title='perseveration')\n",
    "plt.xlabel('iterations')\n",
    "plt.ylabel('p (corr)')\n",
    "ax.spines['top'].set_visible(False)\n",
    "ax.spines['right'].set_visible(False)\n",
    "ax.spines['bottom'].set_visible(True)\n",
    "ax.spines['left'].set_visible(True)\n",
    "\n",
    "plt.show()"
   ]
  },
  {
   "cell_type": "markdown",
   "metadata": {},
   "source": [
    "## Fitting the model parameters"
   ]
  },
  {
   "cell_type": "code",
   "execution_count": 6,
   "metadata": {},
   "outputs": [],
   "source": [
    "from scipy.optimize import minimize\n",
    "from load_data import load_clean_data"
   ]
  },
  {
   "cell_type": "code",
   "execution_count": 40,
   "metadata": {},
   "outputs": [],
   "source": [
    "\"\"\" \n",
    "\n",
    "Args:\n",
    "\n",
    "Alpha (float): learning rate bounded from 0 to 1\n",
    "K (int): working memory capacity\n",
    "prior (): working memory prior weight\n",
    "beta (int): inverse temperature average value is 5 . Fixed to 100\n",
    "epsilon (float): noise bounded from 0 to 1\n",
    "phi (float): decay bounded from 0 to 1\n",
    "pers (float): neglect of negative values bounded from 0 to 1\n",
    "T (int): number of trials per block\n",
    "actions (array): all actions chosen per block\n",
    "reward (array): all rewards recieved per block\n",
    "\n",
    "\"\"\"\n",
    "\n",
    "def likelihood_RLWM(actions, rewards, stimulus, set_size, K, alpha, prior, epsilon, phi, pers):\n",
    "    \"\"\"This function calculate the probability \n",
    "    \"\"\"\n",
    "    beta = 100\n",
    "    action_options = 3\n",
    "    T = len(actions)\n",
    "    Wwm = prior*(np.min([1, K/set_size]))\n",
    "    neg_alpha = (1-pers)*alpha\n",
    "    Q = np.ones((set_size, action_options))/action_options\n",
    "    W = np.ones((set_size, action_options))/action_options\n",
    "    W0 = W.copy()\n",
    "    choiceProb = []\n",
    "    \n",
    "    for a, r, s in zip(actions, rewards, stimulus):\n",
    "      \n",
    "\n",
    "        W = W + phi*(W0-W)\n",
    "\n",
    "\n",
    "\n",
    "        Prl = np.exp(beta * Q[s, :])\n",
    "        Prl = Prl/np.sum(Prl)\n",
    "\n",
    "        Pwm = np.exp(beta * W[s, :])\n",
    "        Pwm = Pwm/np.sum(Pwm)\n",
    "\n",
    "        Pall = Wwm*Pwm + (1-Wwm)*Prl\n",
    "        Pall = (1-epsilon)*Pall + epsilon*(1/action_options)\n",
    "\n",
    "        choiceProb.append(Pall[a])\n",
    "\n",
    "        if r==0:\n",
    "            Q[s,a] = Q[s,a] + neg_alpha*(r-Q[s,a])\n",
    "\n",
    "        else:\n",
    "            Q[s, a] = Q[s, a] + alpha*(r-Q[s, a])\n",
    "\n",
    "\n",
    "        W[s,a] = r\n",
    "    NegLL = -np.sum(np.log(choiceProb))\n",
    "    return NegLL\n",
    "\n",
    "\n"
   ]
  },
  {
   "cell_type": "code",
   "execution_count": 31,
   "metadata": {},
   "outputs": [
    {
     "name": "stdout",
     "output_type": "stream",
     "text": [
      "10.21 percent trials removed\n"
     ]
    }
   ],
   "source": [
    "data = load_clean_data()"
   ]
  },
  {
   "cell_type": "code",
   "execution_count": 32,
   "metadata": {},
   "outputs": [
    {
     "data": {
      "text/plain": [
       "{'set_size': array([2, 2, 2, ..., 6, 6, 6]),\n",
       " 'iterations': array([ 1,  1,  2, ..., 13, 13, 14]),\n",
       " 'correct': array([1, 1, 1, ..., 1, 1, 1]),\n",
       " 'subj': array([ 1,  1,  1, ..., 90, 90, 90]),\n",
       " 'reward': array([ 1,  1,  2, ..., 11, 12, 12]),\n",
       " 'delay': array([ 0,  0,  2, ...,  3, 11,  2]),\n",
       " 'action': array([0, 1, 0, ..., 1, 1, 1]),\n",
       " 'block': array([ 1,  1,  1, ..., 12, 12, 12]),\n",
       " 'stimulus': array([1, 2, 1, ..., 3, 2, 3])}"
      ]
     },
     "execution_count": 32,
     "metadata": {},
     "output_type": "execute_result"
    }
   ],
   "source": [
    "data"
   ]
  },
  {
   "cell_type": "code",
   "execution_count": 33,
   "metadata": {},
   "outputs": [],
   "source": [
    "subj = 5\n",
    "subj_idx = np.where(data['subj']==subj)[0]\n",
    "test_blocks = np.unique([data['block'][i] for i in subj_idx])\n",
    "# for i in test_blocks:\n",
    "i = 2\n",
    "block_idx = np.where(data['block']==i)[0]\n",
    "subj_reward = np.array([i for j, i in enumerate(data['correct']) if j in subj_idx and j in block_idx])\n",
    "subj_action = np.array([i for j, i in enumerate(data['action']) if j in subj_idx and j in block_idx])\n",
    "subj_stimulus = np.array([i-1 for j, i in enumerate(data['stimulus'])if j in subj_idx and j in block_idx])\n",
    "subj_setsize = np.array([i for j, i in enumerate(data['set_size']) if j in subj_idx and j in block_idx])[0]"
   ]
  },
  {
   "cell_type": "code",
   "execution_count": 38,
   "metadata": {},
   "outputs": [
    {
     "data": {
      "text/plain": [
       "(51.82423260748414,\n",
       " array([[0.39707862, 0.33      , 0.3267    ],\n",
       "        [0.40907675, 0.33333333, 0.33      ],\n",
       "        [0.32019867, 0.3786231 , 0.3267    ],\n",
       "        [0.33      , 0.38483687, 0.32019867],\n",
       "        [0.33      , 0.32019867, 0.3786231 ]]),\n",
       " array([[1.        , 0.        , 0.        ],\n",
       "        [1.        , 0.33333333, 0.        ],\n",
       "        [0.        , 1.        , 0.        ],\n",
       "        [0.        , 1.        , 0.        ],\n",
       "        [0.        , 0.        , 1.        ]]))"
      ]
     },
     "execution_count": 38,
     "metadata": {},
     "output_type": "execute_result"
    }
   ],
   "source": [
    "likelihood_RLWM(subj_action, subj_reward, subj_stimulus, subj_setsize, K, alpha, prior, epsilon, phi, pers)\n",
    "\n"
   ]
  },
  {
   "cell_type": "code",
   "execution_count": 41,
   "metadata": {},
   "outputs": [],
   "source": [
    "fun = lambda x : likelihood_RLWM(subj_action, subj_reward, subj_stimulus, subj_setsize, K, x[0], x[1], x[2], x[3], x[4])"
   ]
  },
  {
   "cell_type": "code",
   "execution_count": 42,
   "metadata": {},
   "outputs": [],
   "source": [
    "bnds = ((0, 1), (0, 1), (0,1), (0, 1), (0,1))"
   ]
  },
  {
   "cell_type": "code",
   "execution_count": 45,
   "metadata": {},
   "outputs": [],
   "source": [
    "K = 2\n",
    "x0 = np.random.rand(5)"
   ]
  },
  {
   "cell_type": "code",
   "execution_count": 46,
   "metadata": {},
   "outputs": [
    {
     "data": {
      "text/plain": [
       "array([0.95259218, 0.90948148, 0.69896724, 0.74486498, 0.81042483])"
      ]
     },
     "execution_count": 46,
     "metadata": {},
     "output_type": "execute_result"
    }
   ],
   "source": [
    "x0"
   ]
  },
  {
   "cell_type": "code",
   "execution_count": 47,
   "metadata": {},
   "outputs": [
    {
     "data": {
      "text/plain": [
       "      fun: 47.24201833287758\n",
       " hess_inv: <5x5 LbfgsInvHessProduct with dtype=float64>\n",
       "      jac: array([-1.42108546e-06, -1.27897692e-05, -1.65556458e-04, -3.55271368e-05,\n",
       "        1.00897068e-04])\n",
       "  message: b'CONVERGENCE: REL_REDUCTION_OF_F_<=_FACTR*EPSMCH'\n",
       "     nfev: 228\n",
       "      nit: 23\n",
       "     njev: 38\n",
       "   status: 0\n",
       "  success: True\n",
       "        x: array([0.91472484, 0.75405151, 0.19512268, 0.49146764, 0.98705047])"
      ]
     },
     "execution_count": 47,
     "metadata": {},
     "output_type": "execute_result"
    }
   ],
   "source": [
    "all_opt\n",
    "for K in [2, 3, 4, 5, 6]:\n",
    "    minimize(fun, x0, bounds=bnds)"
   ]
  },
  {
   "cell_type": "code",
   "execution_count": null,
   "metadata": {},
   "outputs": [],
   "source": []
  }
 ],
 "metadata": {
  "kernelspec": {
   "display_name": "Python 3",
   "language": "python",
   "name": "python3"
  },
  "language_info": {
   "codemirror_mode": {
    "name": "ipython",
    "version": 3
   },
   "file_extension": ".py",
   "mimetype": "text/x-python",
   "name": "python",
   "nbconvert_exporter": "python",
   "pygments_lexer": "ipython3",
   "version": "3.8.5"
  }
 },
 "nbformat": 4,
 "nbformat_minor": 4
}
