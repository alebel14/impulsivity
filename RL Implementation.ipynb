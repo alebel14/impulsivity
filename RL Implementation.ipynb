{
 "cells": [
  {
   "cell_type": "markdown",
   "metadata": {},
   "source": [
    "## Implement and simulate RL model \n",
    "\n",
    "This notebook implements a basic RL model with a n-armed bandit task. \n",
    "The simulation should produce results that mimic the behavioral data including:\n",
    "\n",
    "* trial: trial number in block\n",
    "* stimulus: stimulus presented for this trial (1:x, x = set size)\n",
    "* key_press: action for the trial (0 = J, 1 = K, 2 = L)\n",
    "* key_answer: correct action for the trial (0 = J, 1 = K, 2 = L)\n",
    "* correct: whether response was corect\n",
    "* set_size: set size of this block\n",
    "* set: image folder used for this block\n",
    "* img_num: image file used for this trial's stimulus\n",
    "* iteration: how many times this stimulus has been seen so far\n",
    "* delay: how many trials since last presentation of this stimulus\n",
    "* reward_history: how many correct responses for this stimulus since block start\n",
    "\n",
    "This should also be able to look at the affects of various hyperparameters in the model including: \n",
    "\n",
    "* alpha (float between 0 and 1): learning rate\n",
    "* beta (int): temperature\n",
    "* epsilon (float between 0 and 1): noise\n",
    "* phi (float between 0 and 1): decay\n",
    "* pers (float between 0 and 1): perseveration, values closer to 1 have complete neglect of \n",
    "* negative feedback\n",
    "* values near 0 represent equal learning from positive and negative learning\n"
   ]
  },
  {
   "cell_type": "code",
   "execution_count": 1,
   "metadata": {},
   "outputs": [],
   "source": [
    "import numpy as np\n",
    "import matplotlib.pyplot as plt\n",
    "import scipy.stats\n",
    "import pandas as pd\n",
    "import random"
   ]
  },
  {
   "cell_type": "code",
   "execution_count": 65,
   "metadata": {},
   "outputs": [],
   "source": [
    "class simulate_RL6():\n",
    "    def __init__(self, alpha, beta, epsilon, phi, pers, T):\n",
    "        self.alpha = alpha\n",
    "        self.pers = pers\n",
    "        self.neg_alpha = (1-self.pers)*self.alpha\n",
    "        self.beta = beta\n",
    "        self.epsilon = epsilon\n",
    "        self.phi = phi\n",
    "        self.pers = pers\n",
    "        self.T = T\n",
    "        self.Q = np.zeros((3,3))\n",
    "        self.correct = []\n",
    "        self.key_answer = []\n",
    "        self.stimulus = []\n",
    "    def fit(self):\n",
    "        \"\"\"This function will train the model\n",
    "        \"\"\"\n",
    "        for i in range(0, self.T):\n",
    "            s = np.random.randint(0, 3)\n",
    "            self.stimulus.append(s)\n",
    "            p = np.exp(self.beta * self.Q[s, :])\n",
    "            p= p/np.sum(p)\n",
    "            p = (1-self.epsilon)*p + self.epsilon*(1/3)\n",
    "            a = random.choices([0, 1, 2], weights=p)[0]\n",
    "            self.key_answer.append(a)\n",
    "            if s == 0 and a ==0:\n",
    "                r = 1\n",
    "            elif s==0 and a !=0:\n",
    "                r=0\n",
    "            elif s==1 and a==0:\n",
    "                r=1\n",
    "            elif s==1 and a!=0:\n",
    "                r=0\n",
    "            elif s==2 and a==2:\n",
    "                r=1\n",
    "            elif s==2 and a!=2:\n",
    "                r=0\n",
    "\n",
    "\n",
    "            Q0 = self.Q[s, a].copy()\n",
    "            if r==0:\n",
    "                self.Q[s,a] = self.Q[s,a] + self.neg_alpha*(r-self.Q[s,a])\n",
    "            else:\n",
    "                self.Q[s, a] = self.Q[s, a] + self.alpha*(r-self.Q[s, a])\n",
    "\n",
    "            self.Q[s,a] = self.Q[s, a] + self.phi*(Q0-self.Q[s, a])\n",
    "            self.correct.append(r)\n",
    "        \n",
    "        \n",
    "        pass\n",
    "    def _get_delay():\n",
    "        pass\n",
    "    def _get_iteration():\n",
    "        pass\n",
    "    def _get_reward_history():\n",
    "        pass\n",
    "        \n",
    "    "
   ]
  },
  {
   "cell_type": "code",
   "execution_count": 66,
   "metadata": {},
   "outputs": [],
   "source": [
    "model = simulate_RL6(1, 0.5, 0.4, 0.6, 0.6, 10)"
   ]
  },
  {
   "cell_type": "code",
   "execution_count": 67,
   "metadata": {},
   "outputs": [],
   "source": [
    "model.fit()"
   ]
  }
 ],
 "metadata": {
  "kernelspec": {
   "display_name": "Python 3",
   "language": "python",
   "name": "python3"
  },
  "language_info": {
   "codemirror_mode": {
    "name": "ipython",
    "version": 3
   },
   "file_extension": ".py",
   "mimetype": "text/x-python",
   "name": "python",
   "nbconvert_exporter": "python",
   "pygments_lexer": "ipython3",
   "version": "3.8.5"
  }
 },
 "nbformat": 4,
 "nbformat_minor": 4
}
