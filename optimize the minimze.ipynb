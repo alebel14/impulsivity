{
 "cells": [
  {
   "cell_type": "code",
   "execution_count": 1,
   "metadata": {},
   "outputs": [],
   "source": [
    "#import autograd.numpy as np\n",
    "#from autograd import jacobian\n",
    "import numpy as np\n",
    "from scipy.optimize import minimize\n",
    "import random\n",
    "import time\n",
    "import tensorflow_probability as tfp\n",
    "\n"
   ]
  },
  {
   "cell_type": "code",
   "execution_count": 2,
   "metadata": {},
   "outputs": [],
   "source": [
    "class simulate_RLWM():\n",
    "    \"\"\" This class includes the function for fitting a simulation of the RLWM task.\n",
    "    It can also be used to train the model with the behavioral data. \n",
    "    \n",
    "    Args:\n",
    "    \n",
    "    Alpha (float): learning rate bounded from 0 to 1\n",
    "    K (int): working memory capacity\n",
    "    prior (): working memory prior weight\n",
    "    beta (int): inverse temperature average value is 5 . Fixed to 100\n",
    "    epsilon (float): noise bounded from 0 to 1\n",
    "    phi (float): decay bounded from 0 to 1\n",
    "    pers (float): neglect of negative values bounded from 0 to 1\n",
    "    T (int): number of trials per block\n",
    "    actions (int): number of possible responses\n",
    "    reward (dict): keys are the stimulus, values are the correct action response\n",
    "    \n",
    "    \"\"\"\n",
    "    def __init__(self, alpha, K, prior, beta, epsilon, phi, pers, T, actions,reward):\n",
    "        self.alpha = alpha\n",
    "        self.pers = pers\n",
    "        self.beta = beta\n",
    "        self.epsilon = epsilon\n",
    "        self.phi = phi\n",
    "        self.prior = prior\n",
    "        self.K = K\n",
    "        \n",
    "        self.T = T\n",
    "        self.reward = reward\n",
    "        self.actions = actions\n",
    "        \n",
    "        self.Wwm = self.prior*(np.min([1, self.K/len(self.reward.keys())]))\n",
    "        self.neg_alpha = (1-self.pers)*self.alpha\n",
    "        \n",
    "        self.correct = []\n",
    "        self.key_answer = []\n",
    "        self.stimulus = []\n",
    "        self.outcome = []\n",
    "        self.Q = np.ones((len(self.reward.keys()), self.actions))/self.actions\n",
    "        self.W = np.ones((len(self.reward.keys()), self.actions))/self.actions\n",
    "        self.W0 = self.W.copy()\n",
    "    def fit(self):\n",
    "        \"\"\"This function will train the model\n",
    "        \"\"\"\n",
    "        for i in range(0, self.T):\n",
    "            if i >=1:\n",
    "                \n",
    "                self.W = self.W + self.phi*(self.W0-self.W)\n",
    "\n",
    "\n",
    "            set_size = len(self.reward.keys())\n",
    "            s = np.random.randint(0, set_size)\n",
    "            self.stimulus.append(s)\n",
    " \n",
    "            Prl = np.exp(self.beta * self.Q[s, :])\n",
    "            Prl = Prl/np.sum(Prl)\n",
    "            \n",
    "            Pwm = np.exp(self.beta * self.W[s, :])\n",
    "            Pwm = Pwm/np.sum(Pwm)\n",
    "            \n",
    "            Pall = self.Wwm*Pwm + (1-self.Wwm)*Prl\n",
    "            Pall = (1-self.epsilon)*Pall + self.epsilon*(1/self.actions)\n",
    "            a = random.choices(list(range(0, self.actions)), weights=Pall)[0]\n",
    "            self.key_answer.append(a)\n",
    "            correct = self.reward[s]\n",
    "            if correct == a:\n",
    "                r = 1\n",
    "            else:\n",
    "                r = 0\n",
    "            self.outcome.append(r)\n",
    "            if r==0:\n",
    "                self.Q[s,a] = self.Q[s,a] + self.neg_alpha*(r-self.Q[s,a])\n",
    "               \n",
    "            else:\n",
    "                self.Q[s, a] = self.Q[s, a] + self.alpha*(r-self.Q[s, a])\n",
    "            \n",
    "            \n",
    "            self.W[s,a] = r\n",
    "            self.correct.append(r)\n",
    "        \n",
    "    def get_delay(self):\n",
    "        if len(self.stimulus)==0:\n",
    "            raise NameError(\"model not yet fit, please fit model\")\n",
    "        else:\n",
    "            self.delay = []\n",
    "            for j, i in enumerate(self.stimulus):\n",
    "                idx = np.where(np.array(self.stimulus)==i)[0]\n",
    "                if j <= np.min(idx):\n",
    "                    self.delay.append(0)\n",
    "                else:\n",
    "                    biggest_idx = np.max(np.where(idx < j)[0])\n",
    "                    self.delay.append(j-idx[biggest_idx])\n",
    "        \n",
    "    def get_iteration(self):\n",
    "        if len(self.correct) == 0:\n",
    "            print(\"model not yet fit please fit model\")\n",
    "        else:\n",
    "            self.iteration = []\n",
    "            for j, i in enumerate(self.stimulus):\n",
    "                idx = np.where(np.array(self.stimulus)==i)[0]\n",
    "                if j <= np.min(idx):\n",
    "                    self.iteration.append(0)\n",
    "                else:\n",
    "                    self.iteration.append(len(np.where(idx<j)[0]))\n",
    "    def get_reward_history():\n",
    "        if len(self.correct)==0:\n",
    "            print(\"model not yet fit, please fit model\")\n",
    "        else:\n",
    "            pass\n",
    "        "
   ]
  },
  {
   "cell_type": "code",
   "execution_count": 3,
   "metadata": {},
   "outputs": [],
   "source": [
    "\"\"\" \n",
    "\n",
    "Args:\n",
    "\n",
    "Alpha (float): learning rate bounded from 0 to 1\n",
    "K (int): working memory capacity\n",
    "prior (): working memory prior weight\n",
    "beta (int): inverse temperature average value is 5 . Fixed to 100\n",
    "epsilon (float): noise bounded from 0 to 1\n",
    "phi (float): decay bounded from 0 to 1\n",
    "pers (float): neglect of negative values bounded from 0 to 1\n",
    "T (int): number of trials per block\n",
    "actions (array): all actions chosen per block\n",
    "reward (array): all rewards recieved per block\n",
    "\n",
    "\"\"\"\n",
    "\n",
    "def likelihood_RLWM(actions, rewards, stimulus, set_size, K, alpha, prior, epsilon, phi, pers):\n",
    "    \"\"\"This function calculate the probability \n",
    "    \"\"\"\n",
    "    beta = 100\n",
    "    action_options = 3\n",
    "    T = len(actions)\n",
    "    Wwm = prior*(np.min([1, K/set_size]))\n",
    "    neg_alpha = (1-pers)*alpha\n",
    "    Q = np.ones((6, action_options))/action_options\n",
    "    W = np.ones((6, action_options))/action_options\n",
    "    W0 = W.copy()\n",
    "    choiceProb = []\n",
    "    \n",
    "    for a, r, s in zip(actions, rewards, stimulus):\n",
    "      \n",
    "\n",
    "        W = W + phi*(W0-W)\n",
    "\n",
    "\n",
    "\n",
    "        Prl = np.exp(beta * Q[s, :])\n",
    "        Prl = Prl/np.sum(Prl)\n",
    "\n",
    "        Pwm = np.exp(beta * W[s, :])\n",
    "        Pwm = Pwm/np.sum(Pwm)\n",
    "\n",
    "        Pall = Wwm*Pwm + (1-Wwm)*Prl\n",
    "        Pall = (1-epsilon)*Pall + epsilon*(1/action_options)\n",
    "\n",
    "        choiceProb.append(Pall[a])\n",
    "\n",
    "        if r==0:\n",
    "            Q[s,a] = Q[s,a] + neg_alpha*(r-Q[s,a])\n",
    "\n",
    "        else:\n",
    "            Q[s, a] = Q[s, a] + alpha*(r-Q[s, a])\n",
    "\n",
    "\n",
    "        W[s,a] = r\n",
    "    NegLL = -np.sum(np.log(choiceProb))\n",
    "    return NegLL\n",
    "\n",
    "\n",
    "\n"
   ]
  },
  {
   "cell_type": "code",
   "execution_count": 4,
   "metadata": {},
   "outputs": [],
   "source": [
    "fun = lambda x, Data : likelihood_RLWM(Data[0], Data[1], Data[2], set_size, K, x[0], x[1], x[2], x[3], x[4])\n",
    "bnds = ((0, 1), (0, 1), (0,1), (0, 1), (0,1))\n",
    "x0 = np.random.rand(20, 5)\n"
   ]
  },
  {
   "cell_type": "code",
   "execution_count": null,
   "metadata": {},
   "outputs": [],
   "source": [
    "tfp.optimizer.lbfgs_minimize?"
   ]
  },
  {
   "cell_type": "code",
   "execution_count": 14,
   "metadata": {},
   "outputs": [
    {
     "data": {
      "text/plain": [
       "array([0.65673268, 0.77894822, 0.87241084, 0.82105534, 0.60987192])"
      ]
     },
     "execution_count": 14,
     "metadata": {},
     "output_type": "execute_result"
    }
   ],
   "source": [
    "x0[0]"
   ]
  },
  {
   "cell_type": "code",
   "execution_count": 5,
   "metadata": {},
   "outputs": [],
   "source": [
    "alpha = 0.01\n",
    "beta= 50\n",
    "epsilon =0.1\n",
    "phi=0.1\n",
    "pers=0.1\n",
    "T=110\n",
    "actions = 3\n",
    "K=4\n",
    "set_size=6\n",
    "prior=0.8\n",
    "rewards = {0:1, 1:0, 2:1, 3:2, 4:2, 5:0}\n",
    "# alpha, prior, epsilon, phi, pers\n",
    "# 0.01, 0.8, 0.1, 0.1, 0.1"
   ]
  },
  {
   "cell_type": "code",
   "execution_count": 6,
   "metadata": {},
   "outputs": [
    {
     "name": "stdout",
     "output_type": "stream",
     "text": [
      "(3, 1100)\n"
     ]
    }
   ],
   "source": [
    "action = []\n",
    "reward = []\n",
    "stimulus = []\n",
    "\n",
    "for i in range(10):\n",
    "    model = simulate_RLWM(alpha, K, prior, beta, epsilon, phi, pers, T, actions, rewards)\n",
    "    model.fit()\n",
    "    \n",
    "    action.append(model.key_answer)\n",
    "    reward.append(model.outcome)\n",
    "    stimulus.append(model.stimulus)\n",
    "data = np.array([np.concatenate(action), np.concatenate(reward), np.concatenate(stimulus)])\n",
    "print(data.shape)"
   ]
  },
  {
   "cell_type": "code",
   "execution_count": 34,
   "metadata": {},
   "outputs": [
    {
     "name": "stdout",
     "output_type": "stream",
     "text": [
      "--- 2.9943212985992433 seconds ---\n",
      "--- 59.88690114021301 seconds ---\n"
     ]
    }
   ],
   "source": [
    "start = time.time()\n",
    "times = []\n",
    "results = []\n",
    "for x in x0:\n",
    "    t0 = time.time()\n",
    "    result = minimize(fun, x, args=data, method= 'L-BFGS-B', tol=None, bounds=bnds)#, jac=jacobian)\n",
    "    times.append(time.time()-t0)\n",
    "    results.append(result.x)\n",
    "print(\"--- %s seconds ---\" % (np.mean(times)))\n",
    "print(\"--- %s seconds ---\" % (time.time() - start))\n",
    "#     print(f' Number of iterations: {result.nit}')\n",
    "#     print(f'output result: {result.x}')"
   ]
  },
  {
   "cell_type": "code",
   "execution_count": 35,
   "metadata": {},
   "outputs": [
    {
     "data": {
      "text/plain": [
       "      fun: 687.9425768313781\n",
       " hess_inv: <5x5 LbfgsInvHessProduct with dtype=float64>\n",
       "      jac: array([-4.54747349e-05,  9.09494702e-04, -4.20641300e-03, -5.00222083e-04,\n",
       "        7.95807860e-05])\n",
       "  message: b'CONVERGENCE: REL_REDUCTION_OF_F_<=_FACTR*EPSMCH'\n",
       "     nfev: 90\n",
       "      nit: 12\n",
       "     njev: 15\n",
       "   status: 0\n",
       "  success: True\n",
       "        x: array([0.81511519, 0.44806349, 0.1709512 , 0.55485761, 0.56752301])"
      ]
     },
     "execution_count": 35,
     "metadata": {},
     "output_type": "execute_result"
    }
   ],
   "source": [
    "result"
   ]
  },
  {
   "cell_type": "code",
   "execution_count": 40,
   "metadata": {},
   "outputs": [
    {
     "name": "stdout",
     "output_type": "stream",
     "text": [
      "--- 0.7605793476104736 seconds ---\n",
      "--- 15.21233582496643 seconds ---\n"
     ]
    }
   ],
   "source": [
    "start = time.time()\n",
    "times = []\n",
    "results = []\n",
    "for x in x0:\n",
    "    t0 = time.time()\n",
    "    result = minimize(fun, x, args=data, method= 'L-BFGS-B', tol=1e-2, bounds=bnds)#, jac=jacobian)\n",
    "    times.append(time.time()-t0)\n",
    "    results.append(result.x)\n",
    "print(\"--- %s seconds ---\" % (np.mean(times)))\n",
    "print(\"--- %s seconds ---\" % (time.time() - start))\n",
    "# print(f' Number of iterations: {result.nit}')\n",
    "# print(f'output result: {result.x}')"
   ]
  },
  {
   "cell_type": "code",
   "execution_count": 41,
   "metadata": {},
   "outputs": [
    {
     "data": {
      "text/plain": [
       "      fun: 706.4466802835186\n",
       " hess_inv: <5x5 LbfgsInvHessProduct with dtype=float64>\n",
       "      jac: array([ 2.27373674e-05, -3.35664936e+00,  6.55214990e+01, -7.26814961e+01,\n",
       "       -4.54747349e-05])\n",
       "  message: b'CONVERGENCE: REL_REDUCTION_OF_F_<=_FACTR*EPSMCH'\n",
       "     nfev: 24\n",
       "      nit: 2\n",
       "     njev: 4\n",
       "   status: 0\n",
       "  success: True\n",
       "        x: array([0.81513508, 0.49029891, 0.31509891, 0.14621098, 0.56748422])"
      ]
     },
     "execution_count": 41,
     "metadata": {},
     "output_type": "execute_result"
    }
   ],
   "source": [
    "result"
   ]
  },
  {
   "cell_type": "code",
   "execution_count": 28,
   "metadata": {},
   "outputs": [
    {
     "name": "stderr",
     "output_type": "stream",
     "text": [
      "<ipython-input-3-526a7a73b03a>:38: RuntimeWarning: overflow encountered in exp\n",
      "  Prl = np.exp(beta * Q[s, :])\n",
      "<ipython-input-3-526a7a73b03a>:39: RuntimeWarning: invalid value encountered in true_divide\n",
      "  Prl = Prl/np.sum(Prl)\n",
      "<ipython-input-3-526a7a73b03a>:57: RuntimeWarning: invalid value encountered in log\n",
      "  NegLL = -np.sum(np.log(choiceProb))\n"
     ]
    },
    {
     "name": "stdout",
     "output_type": "stream",
     "text": [
      "--- 12.389606165885926 seconds ---\n",
      "--- 247.79245018959045 seconds ---\n"
     ]
    }
   ],
   "source": [
    "start = time.time()\n",
    "times = []\n",
    "results = []\n",
    "for x in x0:\n",
    "    t0 = time.time()\n",
    "    result = minimize(fun, x, args=data, method= 'Powell', tol=1e-5, bounds=bnds)#, jac=jacobian)\n",
    "    times.append(time.time()-t0)\n",
    "    results.append(result.x)\n",
    "print(\"--- %s seconds ---\" % (np.mean(times)))\n",
    "print(\"--- %s seconds ---\" % (time.time() - start))\n",
    "# print(\"--- %s seconds ---\" % (time.time() - t0))\n",
    "# print(f' Number of iterations: {result.nit}')\n",
    "# print(f'output result: {result.x}')"
   ]
  },
  {
   "cell_type": "code",
   "execution_count": 29,
   "metadata": {},
   "outputs": [
    {
     "name": "stdout",
     "output_type": "stream",
     "text": [
      "--- 2.5953839778900147 seconds ---\n",
      "--- 51.90800619125366 seconds ---\n"
     ]
    }
   ],
   "source": [
    "start = time.time()\n",
    "times = []\n",
    "results = []\n",
    "for x in x0:\n",
    "    t0 = time.time()\n",
    "    result = minimize(fun, x, args=data, method= 'SLSQP', tol=1e-5, bounds=bnds)#, jac=jacobian)\n",
    "    times.append(time.time()-t0)\n",
    "    results.append(result.x)\n",
    "print(\"--- %s seconds ---\" % (np.mean(times)))\n",
    "print(\"--- %s seconds ---\" % (time.time() - start))\n",
    "# print(\"--- %s seconds ---\" % (time.time() - t0))\n",
    "# print(f' Number of iterations: {result.nit}')\n",
    "# print(f'output result: {result.x}')\n",
    "# SLSQP"
   ]
  },
  {
   "cell_type": "code",
   "execution_count": 31,
   "metadata": {},
   "outputs": [
    {
     "data": {
      "text/plain": [
       "     fun: 687.9425803780821\n",
       "     jac: array([-4.57763672e-05,  2.88696289e-02,  7.69729614e-02,  5.59692383e-02,\n",
       "        9.15527344e-05])\n",
       " message: 'Optimization terminated successfully'\n",
       "    nfev: 92\n",
       "     nit: 14\n",
       "    njev: 14\n",
       "  status: 0\n",
       " success: True\n",
       "       x: array([0.81439332, 0.44807697, 0.17094469, 0.55498084, 0.56908962])"
      ]
     },
     "execution_count": 31,
     "metadata": {},
     "output_type": "execute_result"
    }
   ],
   "source": [
    "result"
   ]
  },
  {
   "cell_type": "code",
   "execution_count": 30,
   "metadata": {},
   "outputs": [
    {
     "data": {
      "text/plain": [
       "0"
      ]
     },
     "execution_count": 30,
     "metadata": {},
     "output_type": "execute_result"
    }
   ],
   "source": [
    "import os\n",
    "os.system('say \"your program has finished\"')"
   ]
  },
  {
   "cell_type": "code",
   "execution_count": null,
   "metadata": {},
   "outputs": [],
   "source": [
    "action = []\n",
    "reward = []\n",
    "stimulus = []\n",
    "# alpha, prior, epsilon, phi, pers\n",
    "# 0.01, 0.8, 0.1, 0.1, 0.1\n",
    "all_x = []\n",
    "for i in range(20):\n",
    "    real_x = np.random.rand(5)\n",
    "    all_x.append(real_x)\n",
    "    for i in range(10):\n",
    "        model = simulate_RLWM(real_x[0], K, real_x[1], beta, real_x[2], real_x[3], real_x[4], T, actions, rewards)\n",
    "        model.fit()\n",
    "\n",
    "        action.append(model.key_answer)\n",
    "        reward.append(model.outcome)\n",
    "        stimulus.append(model.stimulus)\n",
    "    data = np.array([np.concatenate(action), np.concatenate(reward), np.concatenate(stimulus)])\n",
    "    print(data.shape)\n",
    "\n",
    "    times = []\n",
    "    results = []\n",
    "    for x in x0:\n",
    "        t0 = time.time()\n",
    "        result = minimize(fun, x, args=data, method= 'L-BFGS-B', tol=1e-5, bounds=bnds)#, jac=jacobian)\n",
    "        times.append(time.time()-t0)\n",
    "        results.append(result.x)\n",
    "    print(\"--- %s seconds ---\" % (np.mean(times)))\n"
   ]
  }
 ],
 "metadata": {
  "kernelspec": {
   "display_name": "Python 3",
   "language": "python",
   "name": "python3"
  },
  "language_info": {
   "codemirror_mode": {
    "name": "ipython",
    "version": 3
   },
   "file_extension": ".py",
   "mimetype": "text/x-python",
   "name": "python",
   "nbconvert_exporter": "python",
   "pygments_lexer": "ipython3",
   "version": "3.8.5"
  }
 },
 "nbformat": 4,
 "nbformat_minor": 4
}
