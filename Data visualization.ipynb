{
 "cells": [
  {
   "cell_type": "code",
   "execution_count": 73,
   "metadata": {},
   "outputs": [],
   "source": [
    "import numpy as np\n",
    "import pandas as pd\n",
    "import matplotlib.pyplot as plt\n",
    "import scipy.stats"
   ]
  },
  {
   "cell_type": "markdown",
   "metadata": {},
   "source": [
    "## Training Data load and description\n",
    "\n",
    "RLWM_train_data.csv: RLWM training phase data. Each row represents a trial from a block of a participant. \n",
    "\n",
    "id: de-identfied subject ID  \n",
    "block: block number (0 for practice block, excluded from analyses)  \n",
    "trial: trial number in block  \n",
    "stimulus: stimulus presented for this trial (1:x, x = set size)  \n",
    "rt: response time in milliseconds  \n",
    "key_press: action for the trial (0 = J, 1 = K, 2 = L)  \n",
    "key_answer: correct action for the trial (0 = J, 1 = K, 2 = L)  \n",
    "correct: whether response was corect  \n",
    "set_size: set size of this block  \n",
    "set: image folder used for this block  \n",
    "img_num: image file used for this trial's stimulus  \n",
    "iteration: how many times this stimulus has been seen so far  \n",
    "delay: how many trials since last presentation of this stimulus  \n",
    "reward_history: how many correct responses for this stimulus since block start  \n",
    "\n"
   ]
  },
  {
   "cell_type": "code",
   "execution_count": 4,
   "metadata": {},
   "outputs": [],
   "source": [
    "df = pd.read_csv('impulsivity_rlwm/RLWM_train_data.csv')"
   ]
  },
  {
   "cell_type": "code",
   "execution_count": 5,
   "metadata": {},
   "outputs": [
    {
     "data": {
      "text/html": [
       "<div>\n",
       "<style scoped>\n",
       "    .dataframe tbody tr th:only-of-type {\n",
       "        vertical-align: middle;\n",
       "    }\n",
       "\n",
       "    .dataframe tbody tr th {\n",
       "        vertical-align: top;\n",
       "    }\n",
       "\n",
       "    .dataframe thead th {\n",
       "        text-align: right;\n",
       "    }\n",
       "</style>\n",
       "<table border=\"1\" class=\"dataframe\">\n",
       "  <thead>\n",
       "    <tr style=\"text-align: right;\">\n",
       "      <th></th>\n",
       "      <th>id</th>\n",
       "      <th>block</th>\n",
       "      <th>trial</th>\n",
       "      <th>stimulus</th>\n",
       "      <th>rt</th>\n",
       "      <th>key_press</th>\n",
       "      <th>key_answer</th>\n",
       "      <th>correct</th>\n",
       "      <th>set_size</th>\n",
       "      <th>set</th>\n",
       "      <th>img_num</th>\n",
       "      <th>iteration</th>\n",
       "      <th>delay</th>\n",
       "      <th>reward_history</th>\n",
       "    </tr>\n",
       "  </thead>\n",
       "  <tbody>\n",
       "    <tr>\n",
       "      <th>0</th>\n",
       "      <td>1</td>\n",
       "      <td>0</td>\n",
       "      <td>1</td>\n",
       "      <td>1</td>\n",
       "      <td>485.795</td>\n",
       "      <td>0</td>\n",
       "      <td>0</td>\n",
       "      <td>1</td>\n",
       "      <td>2</td>\n",
       "      <td>0</td>\n",
       "      <td>1</td>\n",
       "      <td>1</td>\n",
       "      <td>0</td>\n",
       "      <td>1</td>\n",
       "    </tr>\n",
       "    <tr>\n",
       "      <th>1</th>\n",
       "      <td>1</td>\n",
       "      <td>0</td>\n",
       "      <td>2</td>\n",
       "      <td>2</td>\n",
       "      <td>382.265</td>\n",
       "      <td>1</td>\n",
       "      <td>1</td>\n",
       "      <td>1</td>\n",
       "      <td>2</td>\n",
       "      <td>0</td>\n",
       "      <td>2</td>\n",
       "      <td>1</td>\n",
       "      <td>0</td>\n",
       "      <td>1</td>\n",
       "    </tr>\n",
       "    <tr>\n",
       "      <th>2</th>\n",
       "      <td>1</td>\n",
       "      <td>0</td>\n",
       "      <td>3</td>\n",
       "      <td>2</td>\n",
       "      <td>496.300</td>\n",
       "      <td>0</td>\n",
       "      <td>1</td>\n",
       "      <td>0</td>\n",
       "      <td>2</td>\n",
       "      <td>0</td>\n",
       "      <td>2</td>\n",
       "      <td>2</td>\n",
       "      <td>1</td>\n",
       "      <td>1</td>\n",
       "    </tr>\n",
       "    <tr>\n",
       "      <th>3</th>\n",
       "      <td>1</td>\n",
       "      <td>0</td>\n",
       "      <td>4</td>\n",
       "      <td>1</td>\n",
       "      <td>592.515</td>\n",
       "      <td>0</td>\n",
       "      <td>0</td>\n",
       "      <td>1</td>\n",
       "      <td>2</td>\n",
       "      <td>0</td>\n",
       "      <td>1</td>\n",
       "      <td>2</td>\n",
       "      <td>3</td>\n",
       "      <td>2</td>\n",
       "    </tr>\n",
       "    <tr>\n",
       "      <th>4</th>\n",
       "      <td>1</td>\n",
       "      <td>0</td>\n",
       "      <td>5</td>\n",
       "      <td>1</td>\n",
       "      <td>501.220</td>\n",
       "      <td>0</td>\n",
       "      <td>0</td>\n",
       "      <td>1</td>\n",
       "      <td>2</td>\n",
       "      <td>0</td>\n",
       "      <td>1</td>\n",
       "      <td>3</td>\n",
       "      <td>1</td>\n",
       "      <td>3</td>\n",
       "    </tr>\n",
       "    <tr>\n",
       "      <th>...</th>\n",
       "      <td>...</td>\n",
       "      <td>...</td>\n",
       "      <td>...</td>\n",
       "      <td>...</td>\n",
       "      <td>...</td>\n",
       "      <td>...</td>\n",
       "      <td>...</td>\n",
       "      <td>...</td>\n",
       "      <td>...</td>\n",
       "      <td>...</td>\n",
       "      <td>...</td>\n",
       "      <td>...</td>\n",
       "      <td>...</td>\n",
       "      <td>...</td>\n",
       "    </tr>\n",
       "    <tr>\n",
       "      <th>58495</th>\n",
       "      <td>90</td>\n",
       "      <td>12</td>\n",
       "      <td>74</td>\n",
       "      <td>1</td>\n",
       "      <td>603.980</td>\n",
       "      <td>0</td>\n",
       "      <td>0</td>\n",
       "      <td>1</td>\n",
       "      <td>6</td>\n",
       "      <td>1</td>\n",
       "      <td>3</td>\n",
       "      <td>13</td>\n",
       "      <td>4</td>\n",
       "      <td>11</td>\n",
       "    </tr>\n",
       "    <tr>\n",
       "      <th>58496</th>\n",
       "      <td>90</td>\n",
       "      <td>12</td>\n",
       "      <td>75</td>\n",
       "      <td>6</td>\n",
       "      <td>470.560</td>\n",
       "      <td>2</td>\n",
       "      <td>2</td>\n",
       "      <td>1</td>\n",
       "      <td>6</td>\n",
       "      <td>1</td>\n",
       "      <td>2</td>\n",
       "      <td>13</td>\n",
       "      <td>7</td>\n",
       "      <td>11</td>\n",
       "    </tr>\n",
       "    <tr>\n",
       "      <th>58497</th>\n",
       "      <td>90</td>\n",
       "      <td>12</td>\n",
       "      <td>76</td>\n",
       "      <td>3</td>\n",
       "      <td>580.190</td>\n",
       "      <td>1</td>\n",
       "      <td>1</td>\n",
       "      <td>1</td>\n",
       "      <td>6</td>\n",
       "      <td>1</td>\n",
       "      <td>4</td>\n",
       "      <td>13</td>\n",
       "      <td>3</td>\n",
       "      <td>11</td>\n",
       "    </tr>\n",
       "    <tr>\n",
       "      <th>58498</th>\n",
       "      <td>90</td>\n",
       "      <td>12</td>\n",
       "      <td>77</td>\n",
       "      <td>2</td>\n",
       "      <td>297.975</td>\n",
       "      <td>1</td>\n",
       "      <td>1</td>\n",
       "      <td>1</td>\n",
       "      <td>6</td>\n",
       "      <td>1</td>\n",
       "      <td>6</td>\n",
       "      <td>13</td>\n",
       "      <td>11</td>\n",
       "      <td>12</td>\n",
       "    </tr>\n",
       "    <tr>\n",
       "      <th>58499</th>\n",
       "      <td>90</td>\n",
       "      <td>12</td>\n",
       "      <td>78</td>\n",
       "      <td>3</td>\n",
       "      <td>475.750</td>\n",
       "      <td>1</td>\n",
       "      <td>1</td>\n",
       "      <td>1</td>\n",
       "      <td>6</td>\n",
       "      <td>1</td>\n",
       "      <td>4</td>\n",
       "      <td>14</td>\n",
       "      <td>2</td>\n",
       "      <td>12</td>\n",
       "    </tr>\n",
       "  </tbody>\n",
       "</table>\n",
       "<p>58500 rows × 14 columns</p>\n",
       "</div>"
      ],
      "text/plain": [
       "       id  block  trial  stimulus       rt  key_press  key_answer  correct  \\\n",
       "0       1      0      1         1  485.795          0           0        1   \n",
       "1       1      0      2         2  382.265          1           1        1   \n",
       "2       1      0      3         2  496.300          0           1        0   \n",
       "3       1      0      4         1  592.515          0           0        1   \n",
       "4       1      0      5         1  501.220          0           0        1   \n",
       "...    ..    ...    ...       ...      ...        ...         ...      ...   \n",
       "58495  90     12     74         1  603.980          0           0        1   \n",
       "58496  90     12     75         6  470.560          2           2        1   \n",
       "58497  90     12     76         3  580.190          1           1        1   \n",
       "58498  90     12     77         2  297.975          1           1        1   \n",
       "58499  90     12     78         3  475.750          1           1        1   \n",
       "\n",
       "       set_size  set  img_num  iteration  delay  reward_history  \n",
       "0             2    0        1          1      0               1  \n",
       "1             2    0        2          1      0               1  \n",
       "2             2    0        2          2      1               1  \n",
       "3             2    0        1          2      3               2  \n",
       "4             2    0        1          3      1               3  \n",
       "...         ...  ...      ...        ...    ...             ...  \n",
       "58495         6    1        3         13      4              11  \n",
       "58496         6    1        2         13      7              11  \n",
       "58497         6    1        4         13      3              11  \n",
       "58498         6    1        6         13     11              12  \n",
       "58499         6    1        4         14      2              12  \n",
       "\n",
       "[58500 rows x 14 columns]"
      ]
     },
     "execution_count": 5,
     "metadata": {},
     "output_type": "execute_result"
    }
   ],
   "source": [
    "df"
   ]
  },
  {
   "cell_type": "code",
   "execution_count": 19,
   "metadata": {},
   "outputs": [],
   "source": [
    "subj = df['id'].to_numpy()\n",
    "block = df['block'].to_numpy()\n",
    "trial = df['trial'].to_numpy()\n",
    "rt = df['rt'].to_numpy()\n",
    "key_answer = df['key_answer'].to_numpy()\n",
    "correct = df ['correct'].to_numpy()\n",
    "set_size = df['set_size'].to_numpy()\n",
    "img_num = df['img_num'].to_numpy()\n",
    "iteration = df['iteration'].to_numpy()\n",
    "delay = df['delay'].to_numpy()\n",
    "reward_history = df['reward_history'].to_numpy()\n"
   ]
  },
  {
   "cell_type": "code",
   "execution_count": 33,
   "metadata": {},
   "outputs": [
    {
     "name": "stdout",
     "output_type": "stream",
     "text": [
      "10.21 percent trials removed\n"
     ]
    }
   ],
   "source": [
    "bad_trials = np.where(block==0)[0]\n",
    "more_bad = np.where(np.nan_to_num(rt)<=200)[0]\n",
    "bad_idx = np.append(bad_trials, more_bad)\n",
    "print(f'{(bad_idx.shape[0]/subj.shape[0])*100:.2f} percent trials removed')"
   ]
  },
  {
   "cell_type": "code",
   "execution_count": 41,
   "metadata": {},
   "outputs": [],
   "source": [
    "clean_setsize = np.array([i for j, i in enumerate(set_size) if j not in bad_idx])\n",
    "clean_correct = np.array([i for j, i in enumerate(correct) if j not in bad_idx])\n",
    "clean_iterations = np.array([i for j, i in enumerate(iteration) if j not in bad_idx])\n"
   ]
  },
  {
   "cell_type": "code",
   "execution_count": 74,
   "metadata": {},
   "outputs": [
    {
     "name": "stderr",
     "output_type": "stream",
     "text": [
      "/Users/amanda/opt/anaconda3/lib/python3.8/site-packages/numpy/core/fromnumeric.py:3372: RuntimeWarning: Mean of empty slice.\n",
      "  return _methods._mean(a, axis=axis, dtype=dtype,\n",
      "/Users/amanda/opt/anaconda3/lib/python3.8/site-packages/numpy/core/_methods.py:170: RuntimeWarning: invalid value encountered in double_scalars\n",
      "  ret = ret.dtype.type(ret / rcount)\n",
      "/Users/amanda/opt/anaconda3/lib/python3.8/site-packages/numpy/core/_methods.py:233: RuntimeWarning: Degrees of freedom <= 0 for slice\n",
      "  ret = _var(a, axis=axis, dtype=dtype, out=out, ddof=ddof,\n",
      "/Users/amanda/opt/anaconda3/lib/python3.8/site-packages/numpy/core/_methods.py:194: RuntimeWarning: invalid value encountered in true_divide\n",
      "  arrmean = um.true_divide(\n",
      "/Users/amanda/opt/anaconda3/lib/python3.8/site-packages/numpy/core/_methods.py:226: RuntimeWarning: invalid value encountered in double_scalars\n",
      "  ret = ret.dtype.type(ret / rcount)\n"
     ]
    }
   ],
   "source": [
    "all_set = {}\n",
    "sem_set = {}\n",
    "for s in range(2, 7):\n",
    "    all_iter = []\n",
    "    sem_iter = []\n",
    "    for n in range(1, 15):\n",
    "        just_set = np.where(clean_setsize==s)[0]\n",
    "        just_iter = np.where(clean_iterations==n)[0]\n",
    "        test_result = np.array([i for j, i in enumerate(clean_correct) if j in just_set and  j in just_iter])\n",
    "        all_iter.append(np.mean(test_result))\n",
    "        sem_iter.append(scipy.stats.sem(test_result))\n",
    "    all_set[s] = all_iter\n",
    "    sem_set[s] = sem_iter"
   ]
  },
  {
   "cell_type": "code",
   "execution_count": 81,
   "metadata": {},
   "outputs": [
    {
     "data": {
      "image/png": "[encoded data removed]",
      "text/plain": [
       "<Figure size 432x288 with 1 Axes>"
      ]
     },
     "metadata": {
      "needs_background": "light"
     },
     "output_type": "display_data"
    }
   ],
   "source": [
    "plt.figure()\n",
    "ax = plt.subplot(111)\n",
    "\n",
    "for i in range(2, 7):\n",
    "    plt.plot(list(range(1, 15)), all_set[i], label=str(i))\n",
    "    plt.fill_between(list(range(1, 15)), [i-j for i, j in zip(all_set[i], sem_set[i])], [i+j for i, j in zip(all_set[i], sem_set[i])], alpha=0.3)\n",
    "\n",
    "for y in range(30, 100, 10):\n",
    "     plt.plot([0, 8, 14, 15], [y/100]*4, '--', lw=0.5, color='dimgray', alpha=0.3)\n",
    "\n",
    "plt.legend()\n",
    "plt.xlabel('iterations')\n",
    "plt.ylabel('p (corr)')\n",
    "ax.spines['top'].set_visible(False)\n",
    "ax.spines['right'].set_visible(False)\n",
    "ax.spines['bottom'].set_visible(False)\n",
    "ax.spines['left'].set_visible(False) "
   ]
  },
  {
   "cell_type": "code",
   "execution_count": 56,
   "metadata": {},
   "outputs": [
    {
     "data": {
      "text/plain": [
       "(346,)"
      ]
     },
     "execution_count": 56,
     "metadata": {},
     "output_type": "execute_result"
    }
   ],
   "source": [
    "plt.fill_between(allrange, [np.mean(mlrangeh10r_abs[str(item)]) - scipy.stats.sem(mlrangeh10r_abs[str(item)]) for item in allrange], [np.mean(mlrangeh10r_abs[str(item)]) + scipy.stats.sem(mlrangeh10r_abs[str(item)]) for item in allrange], alpha=0.3, color='red')\n",
    "\n"
   ]
  },
  {
   "cell_type": "code",
   "execution_count": 78,
   "metadata": {},
   "outputs": [
    {
     "data": {
      "text/plain": [
       "[0.37962749123717415,\n",
       " 0.6177940402646009,\n",
       " 0.8337055987255727,\n",
       " 0.8875193444317072,\n",
       " 0.8857078837150225,\n",
       " 0.9090909090909092,\n",
       " 0.8686836803803617,\n",
       " 0.9001508435065485,\n",
       " 0.8943424895142223,\n",
       " 0.9214684576648206,\n",
       " 0.9243660205117925,\n",
       " 0.9093468324375671,\n",
       " 0.9111726895827699,\n",
       " nan]"
      ]
     },
     "execution_count": 78,
     "metadata": {},
     "output_type": "execute_result"
    }
   ],
   "source": [
    "[i-j for i, j in zip(all_set[2], sem_set[2])]"
   ]
  },
  {
   "cell_type": "code",
   "execution_count": null,
   "metadata": {},
   "outputs": [],
   "source": []
  }
 ],
 "metadata": {
  "kernelspec": {
   "display_name": "Python 3",
   "language": "python",
   "name": "python3"
  },
  "language_info": {
   "codemirror_mode": {
    "name": "ipython",
    "version": 3
   },
   "file_extension": ".py",
   "mimetype": "text/x-python",
   "name": "python",
   "nbconvert_exporter": "python",
   "pygments_lexer": "ipython3",
   "version": "3.8.5"
  }
 },
 "nbformat": 4,
 "nbformat_minor": 4
}
